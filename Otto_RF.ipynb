{
 "cells": [
  {
   "cell_type": "code",
   "execution_count": 1,
   "metadata": {
    "collapsed": false
   },
   "outputs": [
    {
     "name": "stdout",
     "output_type": "stream",
     "text": [
      "Populating the interactive namespace from numpy and matplotlib\n"
     ]
    }
   ],
   "source": [
    "%pylab inline\n",
    "import pandas as pd\n",
    "import matplotlib.pyplot as plt\n",
    "import numpy as np"
   ]
  },
  {
   "cell_type": "code",
   "execution_count": 2,
   "metadata": {
    "collapsed": false
   },
   "outputs": [],
   "source": [
    "train = pd.read_csv(\"train.csv\")\n",
    "test = pd.read_csv(\"test.csv\")"
   ]
  },
  {
   "cell_type": "code",
   "execution_count": 3,
   "metadata": {
    "collapsed": false
   },
   "outputs": [
    {
     "name": "stdout",
     "output_type": "stream",
     "text": [
      "61878\n"
     ]
    }
   ],
   "source": [
    "# #obs\n",
    "N = train.feat_1.count()\n",
    "print N"
   ]
  },
  {
   "cell_type": "code",
   "execution_count": 4,
   "metadata": {
    "collapsed": false
   },
   "outputs": [],
   "source": [
    "from sklearn.ensemble import RandomForestClassifier\n",
    "from sklearn.ensemble import ExtraTreesClassifier\n",
    "from sklearn.calibration import CalibratedClassifierCV\n",
    "\n",
    "# === Parameter tuning - Using Hyperopt ===\n",
    "from hyperopt import hp, fmin, tpe\n",
    "from time import time\n",
    "\n",
    "from sklearn.cross_validation import KFold\n",
    "from sklearn.cross_validation import StratifiedKFold\n",
    "from sklearn.metrics import log_loss"
   ]
  },
  {
   "cell_type": "code",
   "execution_count": 7,
   "metadata": {
    "collapsed": false
   },
   "outputs": [
    {
     "data": {
      "text/plain": [
       "0.21616187468057912"
      ]
     },
     "execution_count": 7,
     "metadata": {},
     "output_type": "execute_result"
    }
   ],
   "source": [
    "log_loss([\"spam\", \"ham\", \"ham\", \"spam\"],  [[.1, .9], [.9, .1], [.8, .2], [.35, .65]])"
   ]
  },
  {
   "cell_type": "markdown",
   "metadata": {},
   "source": [
    "[.1, .9] - 0.1 predicted probability for class 0 and 0.9 predicted probability for class 1 <br/>\n",
    "class 0 - ham, class 1 - spam <br/>\n",
    "By default, spam is 1, and ham is 0"
   ]
  },
  {
   "cell_type": "code",
   "execution_count": 19,
   "metadata": {
    "collapsed": false
   },
   "outputs": [
    {
     "data": {
      "text/plain": [
       "0.17380733669106746"
      ]
     },
     "execution_count": 19,
     "metadata": {},
     "output_type": "execute_result"
    }
   ],
   "source": [
    "y_true = [0, 0, 1, 1]\n",
    "y_pred = [[.9, .1], [.8, .2], [.3, .7], [.01, .99]]\n",
    "log_loss(y_true, y_pred)   "
   ]
  },
  {
   "cell_type": "code",
   "execution_count": 65,
   "metadata": {
    "collapsed": false
   },
   "outputs": [
    {
     "data": {
      "text/plain": [
       "0.10536051565782628"
      ]
     },
     "execution_count": 65,
     "metadata": {},
     "output_type": "execute_result"
    }
   ],
   "source": [
    "log_loss([\"Class_1\", \"Class_2\"], [ [0.9, 0.1], [0.1, 0.9] ]  )"
   ]
  },
  {
   "cell_type": "code",
   "execution_count": 66,
   "metadata": {
    "collapsed": false
   },
   "outputs": [
    {
     "data": {
      "text/plain": [
       "0.10536051565782628"
      ]
     },
     "execution_count": 66,
     "metadata": {},
     "output_type": "execute_result"
    }
   ],
   "source": [
    "-(1*log(0.9) + 1*log(0.9)) / 2.0"
   ]
  },
  {
   "cell_type": "markdown",
   "metadata": {},
   "source": [
    "#Blending RF"
   ]
  },
  {
   "cell_type": "code",
   "execution_count": 5,
   "metadata": {
    "collapsed": false
   },
   "outputs": [],
   "source": [
    "kf = StratifiedKFold(train.target.values, n_folds=5, shuffle=False, random_state=26)"
   ]
  },
  {
   "cell_type": "code",
   "execution_count": 8,
   "metadata": {
    "collapsed": false
   },
   "outputs": [
    {
     "name": "stdout",
     "output_type": "stream",
     "text": [
      "(12378, 95)\n",
      "(12377, 95)\n",
      "(12376, 95)\n",
      "(12376, 95)\n",
      "(12371, 95)\n"
     ]
    }
   ],
   "source": [
    "for index, (train_index, test_index) in enumerate(kf):\n",
    "    train_cv, test_cv = train.values[train_index], train.values[test_index]\n",
    "    pd.DataFrame(train_cv).to_csv(\"train_cv\" + str(index) + \".csv\", index=False)\n",
    "    pd.DataFrame(test_cv).to_csv(\"test_cv\" + str(index) + \".csv\", index=False)\n",
    "    print np.shape(test_cv)"
   ]
  },
  {
   "cell_type": "code",
   "execution_count": null,
   "metadata": {
    "collapsed": true
   },
   "outputs": [],
   "source": [
    "def run_blending_rf( X_train, y_train, max_depth_set, weights, kf):\n",
    "    \n",
    "    kf = StratifiedKFold(y_train, n_folds=5, shuffle=False)\n",
    "    X = X_train\n",
    "    y = y_train\n",
    "    \n",
    "    train_cv_error = np.empty( 5 ) \n",
    "    test_cv_error  = np.empty( 5 )\n",
    "\n",
    "    params = {'n_estimators': 300, 'max_depth': 36, 'min_samples_leaf': 1, 'max_features': 0.1,\n",
    "              'n_jobs': 16}\n",
    "    \n",
    "    for index, (train_index, test_index) in enumerate(kf):\n",
    "        X_train, X_test = X[train_index], X[test_index]\n",
    "        y_train, y_test = y[train_index], y[test_index]\n",
    "        \n",
    "        predicted_proba = np.zeros( (np.shape(y_test)[0], 9) )\n",
    "        \n",
    "        print \"training for fold \", str(index)\n",
    "        for i, max_depth in enumerate(max_depth_set):\n",
    "            params['max_depth'] = max_depth\n",
    "            print \"train model with max_depth \", max_depth\n",
    "            rf_model = RandomForestClassifier(**params)\n",
    "            rf_fit = rf_model.fit(X_train, y_train)  \n",
    "        \n",
    "            # use calibrated classifier on training part\n",
    "            cal_rf_fit = CalibratedClassifierCV(rf_fit, method=\"isotonic\", cv = 40)\n",
    "            cal_rf_fit.fit(X_train, y_train)  \n",
    "            predicted = cal_rf_fit.predict_proba(X_test)\n",
    "            \n",
    "            print \"write predictions to file\\n\"\n",
    "            pd.DataFrame(predicted).to_csv(\"predicted_RF_depth\" + str(max_depth) + \"_fold\" + str(index) + \".csv\")\n",
    "            \n",
    "            predicted_proba = predicted_proba + weights[i]*predicted / np.sum(weights)\n",
    "        \n",
    "        test_cv_error[index]  = log_loss( y_test, predicted_proba ) \n",
    "\n",
    "    test_error  = np.mean(test_cv_error)\n",
    "    return test_error\n"
   ]
  },
  {
   "cell_type": "markdown",
   "metadata": {},
   "source": [
    "#Scoring on LB"
   ]
  },
  {
   "cell_type": "code",
   "execution_count": 6,
   "metadata": {
    "collapsed": false
   },
   "outputs": [],
   "source": [
    "X_train = train.drop(['id', 'target'], axis=1)\n",
    "y_train = train.target"
   ]
  },
  {
   "cell_type": "code",
   "execution_count": 6,
   "metadata": {
    "collapsed": false
   },
   "outputs": [
    {
     "name": "stdout",
     "output_type": "stream",
     "text": [
      "run model m40\n",
      "calibrate\n",
      "---- DONE ----\n"
     ]
    }
   ],
   "source": [
    "params = {'n_estimators': 300, 'max_depth': 40, 'min_samples_leaf': 1, 'max_features': 0.1,\n",
    "          'n_jobs': 16}\n",
    "  \n",
    "X = np.power(X_train.values, 1.0/3)\n",
    "y = y_train.values\n",
    "X_test = test.drop('id', axis=1)\n",
    "# predicted_proba = np.zeros( (np.shape(X_test)[0], 9) )\n",
    "\n",
    "print \"run model m40\"\n",
    "rf_m40 = RandomForestClassifier(**params)\n",
    "rf_m40 = rf_m40.fit(X, y)  \n",
    "        \n",
    "# use calibrated classifier on training part\n",
    "print \"calibrate\"\n",
    "cal_rf_fit = CalibratedClassifierCV(rf_m40, method=\"isotonic\", cv = 40)\n",
    "cal_rf_fit.fit(X, y)  \n",
    "predicted_m40 = cal_rf_fit.predict_proba( np.power(X_test.values, 1.0/3) )\n",
    "print \"---- DONE ----\""
   ]
  },
  {
   "cell_type": "code",
   "execution_count": 10,
   "metadata": {
    "collapsed": false
   },
   "outputs": [],
   "source": [
    "predicted_m36 = pd.read_csv(\"test_predicted_rf36.csv\")\n",
    "predicted_m38 = pd.read_csv(\"test_predicted_rf38.csv\")\n",
    "predicted_m40 = pd.read_csv(\"test_predicted_rf40.csv\")"
   ]
  },
  {
   "cell_type": "code",
   "execution_count": 13,
   "metadata": {
    "collapsed": false
   },
   "outputs": [
    {
     "data": {
      "text/plain": [
       "array([[  1.22046765e-03,   1.05586333e-01,   1.53380333e-01,\n",
       "          7.26938856e-01,   0.00000000e+00,   2.21182598e-03,\n",
       "          9.60289921e-03,   5.16762481e-04,   5.42522655e-04],\n",
       "       [  4.82134142e-03,   3.30814854e-04,   1.48210121e-03,\n",
       "          1.74532071e-03,   1.06536117e-04,   6.79609525e-01,\n",
       "          4.52794033e-03,   3.06210731e-01,   1.16568943e-03]])"
      ]
     },
     "execution_count": 13,
     "metadata": {},
     "output_type": "execute_result"
    }
   ],
   "source": [
    "predicted_m40.values[:2]"
   ]
  },
  {
   "cell_type": "code",
   "execution_count": 14,
   "metadata": {
    "collapsed": false
   },
   "outputs": [],
   "source": [
    "predicted_rf = ( predicted_m36.values + predicted_m38.values + predicted_m40.values ) / 3.0"
   ]
  },
  {
   "cell_type": "code",
   "execution_count": 31,
   "metadata": {
    "collapsed": false
   },
   "outputs": [
    {
     "data": {
      "text/plain": [
       "array([[  1.20060988e-03,   1.05325139e-01,   1.56138304e-01,\n",
       "          7.24578674e-01,   0.00000000e+00,   1.70887429e-03,\n",
       "          1.00948415e-02,   6.64431709e-04,   2.89125889e-04],\n",
       "       [  4.08631996e-03,   1.38609665e-03,   1.11300621e-03,\n",
       "          1.52679822e-03,   1.30812454e-04,   6.73388058e-01,\n",
       "          3.51553811e-03,   3.13492422e-01,   1.36094766e-03]])"
      ]
     },
     "execution_count": 31,
     "metadata": {},
     "output_type": "execute_result"
    }
   ],
   "source": [
    "predicted_rf[:2]"
   ]
  },
  {
   "cell_type": "code",
   "execution_count": 18,
   "metadata": {
    "collapsed": true
   },
   "outputs": [],
   "source": [
    "# pd.DataFrame(predicted_rf).to_csv(\"test_predicted_rf.csv\", index=False)"
   ]
  },
  {
   "cell_type": "code",
   "execution_count": 16,
   "metadata": {
    "collapsed": true
   },
   "outputs": [],
   "source": [
    "predicted_xgb = pd.read_csv(\"test_predicted_xgboost.csv\")"
   ]
  },
  {
   "cell_type": "code",
   "execution_count": 32,
   "metadata": {
    "collapsed": false,
    "scrolled": true
   },
   "outputs": [
    {
     "data": {
      "text/html": [
       "<div style=\"max-height:1000px;max-width:1500px;overflow:auto;\">\n",
       "<table border=\"1\" class=\"dataframe\">\n",
       "  <thead>\n",
       "    <tr style=\"text-align: right;\">\n",
       "      <th></th>\n",
       "      <th>0</th>\n",
       "      <th>1</th>\n",
       "      <th>2</th>\n",
       "      <th>3</th>\n",
       "      <th>4</th>\n",
       "      <th>5</th>\n",
       "      <th>6</th>\n",
       "      <th>7</th>\n",
       "      <th>8</th>\n",
       "    </tr>\n",
       "  </thead>\n",
       "  <tbody>\n",
       "    <tr>\n",
       "      <th>0</th>\n",
       "      <td> 0.000534</td>\n",
       "      <td> 0.110747</td>\n",
       "      <td> 0.158139</td>\n",
       "      <td> 0.724872</td>\n",
       "      <td> 0.000122</td>\n",
       "      <td> 0.000180</td>\n",
       "      <td> 0.005044</td>\n",
       "      <td> 0.000295</td>\n",
       "      <td> 0.000066</td>\n",
       "    </tr>\n",
       "    <tr>\n",
       "      <th>1</th>\n",
       "      <td> 0.002227</td>\n",
       "      <td> 0.007498</td>\n",
       "      <td> 0.002107</td>\n",
       "      <td> 0.000708</td>\n",
       "      <td> 0.000362</td>\n",
       "      <td> 0.284858</td>\n",
       "      <td> 0.002770</td>\n",
       "      <td> 0.698525</td>\n",
       "      <td> 0.000945</td>\n",
       "    </tr>\n",
       "  </tbody>\n",
       "</table>\n",
       "</div>"
      ],
      "text/plain": [
       "          0         1         2         3         4         5         6  \\\n",
       "0  0.000534  0.110747  0.158139  0.724872  0.000122  0.000180  0.005044   \n",
       "1  0.002227  0.007498  0.002107  0.000708  0.000362  0.284858  0.002770   \n",
       "\n",
       "          7         8  \n",
       "0  0.000295  0.000066  \n",
       "1  0.698525  0.000945  "
      ]
     },
     "execution_count": 32,
     "metadata": {},
     "output_type": "execute_result"
    }
   ],
   "source": [
    "predicted_xgb[:2]"
   ]
  },
  {
   "cell_type": "code",
   "execution_count": 33,
   "metadata": {
    "collapsed": true
   },
   "outputs": [],
   "source": [
    "# old prediction\n",
    "# predicted_h2o = pd.read_csv(\"submissions/11May_h2o_01.csv\")\n",
    "# predicted_h2o = predicted_h2o.drop('id', axis=1)\n",
    "# predicted_h2o = predicted_h2o / 20.0\n",
    "\n",
    "predicted_h2o = pd.read_csv(\"test_predicted_h2o.csv\")"
   ]
  },
  {
   "cell_type": "code",
   "execution_count": 34,
   "metadata": {
    "collapsed": false
   },
   "outputs": [
    {
     "data": {
      "text/html": [
       "<div style=\"max-height:1000px;max-width:1500px;overflow:auto;\">\n",
       "<table border=\"1\" class=\"dataframe\">\n",
       "  <thead>\n",
       "    <tr style=\"text-align: right;\">\n",
       "      <th></th>\n",
       "      <th>Class_1</th>\n",
       "      <th>Class_2</th>\n",
       "      <th>Class_3</th>\n",
       "      <th>Class_4</th>\n",
       "      <th>Class_5</th>\n",
       "      <th>Class_6</th>\n",
       "      <th>Class_7</th>\n",
       "      <th>Class_8</th>\n",
       "      <th>Class_9</th>\n",
       "    </tr>\n",
       "  </thead>\n",
       "  <tbody>\n",
       "    <tr>\n",
       "      <th>0</th>\n",
       "      <td> 0.000025</td>\n",
       "      <td> 0.124606</td>\n",
       "      <td> 1.555895e-01</td>\n",
       "      <td> 7.185360e-01</td>\n",
       "      <td> 0.000118</td>\n",
       "      <td> 0.000053</td>\n",
       "      <td> 0.000982</td>\n",
       "      <td> 0.000025</td>\n",
       "      <td> 0.000065</td>\n",
       "    </tr>\n",
       "    <tr>\n",
       "      <th>1</th>\n",
       "      <td> 0.000003</td>\n",
       "      <td> 0.000000</td>\n",
       "      <td> 9.843788e-08</td>\n",
       "      <td> 3.406033e-08</td>\n",
       "      <td> 0.000001</td>\n",
       "      <td> 0.374765</td>\n",
       "      <td> 0.000008</td>\n",
       "      <td> 0.625179</td>\n",
       "      <td> 0.000044</td>\n",
       "    </tr>\n",
       "  </tbody>\n",
       "</table>\n",
       "</div>"
      ],
      "text/plain": [
       "    Class_1   Class_2       Class_3       Class_4   Class_5   Class_6  \\\n",
       "0  0.000025  0.124606  1.555895e-01  7.185360e-01  0.000118  0.000053   \n",
       "1  0.000003  0.000000  9.843788e-08  3.406033e-08  0.000001  0.374765   \n",
       "\n",
       "    Class_7   Class_8   Class_9  \n",
       "0  0.000982  0.000025  0.000065  \n",
       "1  0.000008  0.625179  0.000044  "
      ]
     },
     "execution_count": 34,
     "metadata": {},
     "output_type": "execute_result"
    }
   ],
   "source": [
    "predicted_h2o[:2]"
   ]
  },
  {
   "cell_type": "code",
   "execution_count": 35,
   "metadata": {
    "collapsed": true
   },
   "outputs": [],
   "source": [
    "# 0.6 4 3.1\n",
    "predicted = ( 0.6 * predicted_rf + 4 * predicted_xgb.values + 2.9 * predicted_h2o) / (0.6 + 4.0 + 2.9)\n",
    "predicted = pd.DataFrame(columns=train.target.unique(), data=predicted)"
   ]
  },
  {
   "cell_type": "code",
   "execution_count": 36,
   "metadata": {
    "collapsed": false
   },
   "outputs": [
    {
     "data": {
      "text/html": [
       "<div style=\"max-height:1000px;max-width:1500px;overflow:auto;\">\n",
       "<table border=\"1\" class=\"dataframe\">\n",
       "  <thead>\n",
       "    <tr style=\"text-align: right;\">\n",
       "      <th></th>\n",
       "      <th>Class_1</th>\n",
       "      <th>Class_2</th>\n",
       "      <th>Class_3</th>\n",
       "      <th>Class_4</th>\n",
       "      <th>Class_5</th>\n",
       "      <th>Class_6</th>\n",
       "      <th>Class_7</th>\n",
       "      <th>Class_8</th>\n",
       "      <th>Class_9</th>\n",
       "    </tr>\n",
       "  </thead>\n",
       "  <tbody>\n",
       "    <tr>\n",
       "      <th>0</th>\n",
       "      <td> 0.000390</td>\n",
       "      <td> 0.115672</td>\n",
       "      <td> 0.156993</td>\n",
       "      <td> 0.722398</td>\n",
       "      <td> 0.000111</td>\n",
       "      <td> 0.000253</td>\n",
       "      <td> 0.003878</td>\n",
       "      <td> 0.000220</td>\n",
       "      <td> 0.000083</td>\n",
       "    </tr>\n",
       "    <tr>\n",
       "      <th>1</th>\n",
       "      <td> 0.001516</td>\n",
       "      <td> 0.004110</td>\n",
       "      <td> 0.001213</td>\n",
       "      <td> 0.000500</td>\n",
       "      <td> 0.000204</td>\n",
       "      <td> 0.350705</td>\n",
       "      <td> 0.001762</td>\n",
       "      <td> 0.639362</td>\n",
       "      <td> 0.000630</td>\n",
       "    </tr>\n",
       "  </tbody>\n",
       "</table>\n",
       "</div>"
      ],
      "text/plain": [
       "    Class_1   Class_2   Class_3   Class_4   Class_5   Class_6   Class_7  \\\n",
       "0  0.000390  0.115672  0.156993  0.722398  0.000111  0.000253  0.003878   \n",
       "1  0.001516  0.004110  0.001213  0.000500  0.000204  0.350705  0.001762   \n",
       "\n",
       "    Class_8   Class_9  \n",
       "0  0.000220  0.000083  \n",
       "1  0.639362  0.000630  "
      ]
     },
     "execution_count": 36,
     "metadata": {},
     "output_type": "execute_result"
    }
   ],
   "source": [
    "predicted[:2]"
   ]
  },
  {
   "cell_type": "code",
   "execution_count": 41,
   "metadata": {
    "collapsed": false
   },
   "outputs": [],
   "source": [
    "submit = test.filter(['id'], axis=1).join(predicted)\n",
    "submit.to_csv(\"submissions/16May_Blend_01.csv\", index=False)"
   ]
  },
  {
   "cell_type": "code",
   "execution_count": null,
   "metadata": {
    "collapsed": true
   },
   "outputs": [],
   "source": []
  },
  {
   "cell_type": "code",
   "execution_count": null,
   "metadata": {
    "collapsed": true
   },
   "outputs": [],
   "source": [
    "max_depth_set = [36, 38, 40]    \n",
    "    \n",
    "for max_depth in max_depth_set:\n",
    "    params['max_depth'] = max_depth\n",
    "    print \"train model with max_depth \", max_depth\n",
    "    rf_model = RandomForestClassifier(**params)\n",
    "    rf_fit = rf_model.fit(X, y)  \n",
    "        \n",
    "    # use calibrated classifier on training part\n",
    "    cal_rf_fit = CalibratedClassifierCV(rf_fit, method=\"isotonic\", cv = 40)\n",
    "    cal_rf_fit.fit(X, y)  \n",
    "    predicted = cal_rf_fit.predict_proba( np.power(X_test.values, 1.0/3) )\n",
    "            \n",
    "    predicted_proba = predicted_proba + predicted / 3.0"
   ]
  },
  {
   "cell_type": "markdown",
   "metadata": {},
   "source": [
    "# Tuning RF"
   ]
  },
  {
   "cell_type": "code",
   "execution_count": 31,
   "metadata": {
    "collapsed": false
   },
   "outputs": [],
   "source": [
    "space = (\n",
    "    hp.choice( 'max_depth', np.arange(6, 42, step=2)),\n",
    "    hp.choice( 'max_features', np.arange(0.1, 1.1, step=0.1) )\n",
    ")"
   ]
  },
  {
   "cell_type": "code",
   "execution_count": 32,
   "metadata": {
    "collapsed": false
   },
   "outputs": [],
   "source": [
    "def run_wrapper( params ):\n",
    "    global run_counter\n",
    "    \n",
    "    run_counter += 1\n",
    "    print \"run \" + str(run_counter)\n",
    "    \n",
    "    s = time()\n",
    "    train_error, test_error = run_test( params )\n",
    "    \n",
    "    print \"Test error:\", str(test_error) + ' | param: ' + str( params )\n",
    "    print \"Train error: %r \" % train_error\n",
    "    print \"elapsed: {}s \\n\".format( int( round( time() - s )))\n",
    "    \n",
    "    return test_error"
   ]
  },
  {
   "cell_type": "code",
   "execution_count": 10,
   "metadata": {
    "collapsed": false
   },
   "outputs": [],
   "source": [
    "X_train = train.drop([\"target\", \"id\"], axis = 1)\n",
    "y_train = train.target"
   ]
  },
  {
   "cell_type": "code",
   "execution_count": 11,
   "metadata": {
    "collapsed": false
   },
   "outputs": [
    {
     "data": {
      "text/plain": [
       "0    Class_1\n",
       "1    Class_1\n",
       "2    Class_1\n",
       "3    Class_1\n",
       "4    Class_1\n",
       "Name: target, dtype: object"
      ]
     },
     "execution_count": 11,
     "metadata": {},
     "output_type": "execute_result"
    }
   ],
   "source": [
    "y_train[:5]"
   ]
  },
  {
   "cell_type": "code",
   "execution_count": 17,
   "metadata": {
    "collapsed": false
   },
   "outputs": [
    {
     "data": {
      "text/plain": [
       "'0.16.1'"
      ]
     },
     "execution_count": 17,
     "metadata": {},
     "output_type": "execute_result"
    }
   ],
   "source": [
    "import sklearn\n",
    "sklearn.__version__"
   ]
  },
  {
   "cell_type": "markdown",
   "metadata": {},
   "source": [
    "## Reduce cardinality of features"
   ]
  },
  {
   "cell_type": "code",
   "execution_count": 45,
   "metadata": {
    "collapsed": false
   },
   "outputs": [],
   "source": [
    "train1 = pd.read_csv(\"train1.csv\")\n",
    "test1  = pd.read_csv(\"test1.csv\")"
   ]
  },
  {
   "cell_type": "code",
   "execution_count": 46,
   "metadata": {
    "collapsed": true
   },
   "outputs": [],
   "source": [
    "X_train1 = train1.drop([\"target\", \"id\"], axis = 1)\n",
    "y_train1 = train1.target"
   ]
  },
  {
   "cell_type": "code",
   "execution_count": 48,
   "metadata": {
    "collapsed": false
   },
   "outputs": [
    {
     "data": {
      "text/html": [
       "<div style=\"max-height:1000px;max-width:1500px;overflow:auto;\">\n",
       "<table border=\"1\" class=\"dataframe\">\n",
       "  <thead>\n",
       "    <tr style=\"text-align: right;\">\n",
       "      <th></th>\n",
       "      <th>feat_1</th>\n",
       "      <th>feat_2</th>\n",
       "      <th>feat_3</th>\n",
       "      <th>feat_4</th>\n",
       "      <th>feat_5</th>\n",
       "      <th>feat_6</th>\n",
       "      <th>feat_7</th>\n",
       "      <th>feat_8</th>\n",
       "      <th>feat_9</th>\n",
       "      <th>feat_10</th>\n",
       "      <th>...</th>\n",
       "      <th>feat_84</th>\n",
       "      <th>feat_85</th>\n",
       "      <th>feat_86</th>\n",
       "      <th>feat_87</th>\n",
       "      <th>feat_88</th>\n",
       "      <th>feat_89</th>\n",
       "      <th>feat_90</th>\n",
       "      <th>feat_91</th>\n",
       "      <th>feat_92</th>\n",
       "      <th>feat_93</th>\n",
       "    </tr>\n",
       "  </thead>\n",
       "  <tbody>\n",
       "    <tr>\n",
       "      <th>0</th>\n",
       "      <td> 1</td>\n",
       "      <td> 0</td>\n",
       "      <td> 0</td>\n",
       "      <td> 0</td>\n",
       "      <td> 0</td>\n",
       "      <td> 0</td>\n",
       "      <td> 0</td>\n",
       "      <td> 0</td>\n",
       "      <td> 0</td>\n",
       "      <td> 0</td>\n",
       "      <td>...</td>\n",
       "      <td> 0</td>\n",
       "      <td> 1</td>\n",
       "      <td> 0</td>\n",
       "      <td> 0</td>\n",
       "      <td> 0</td>\n",
       "      <td> 0</td>\n",
       "      <td> 0</td>\n",
       "      <td> 0</td>\n",
       "      <td> 0</td>\n",
       "      <td> 0</td>\n",
       "    </tr>\n",
       "    <tr>\n",
       "      <th>1</th>\n",
       "      <td> 0</td>\n",
       "      <td> 0</td>\n",
       "      <td> 0</td>\n",
       "      <td> 0</td>\n",
       "      <td> 0</td>\n",
       "      <td> 0</td>\n",
       "      <td> 0</td>\n",
       "      <td> 1</td>\n",
       "      <td> 0</td>\n",
       "      <td> 0</td>\n",
       "      <td>...</td>\n",
       "      <td> 0</td>\n",
       "      <td> 0</td>\n",
       "      <td> 0</td>\n",
       "      <td> 0</td>\n",
       "      <td> 0</td>\n",
       "      <td> 0</td>\n",
       "      <td> 0</td>\n",
       "      <td> 0</td>\n",
       "      <td> 0</td>\n",
       "      <td> 0</td>\n",
       "    </tr>\n",
       "    <tr>\n",
       "      <th>2</th>\n",
       "      <td> 0</td>\n",
       "      <td> 0</td>\n",
       "      <td> 0</td>\n",
       "      <td> 0</td>\n",
       "      <td> 0</td>\n",
       "      <td> 0</td>\n",
       "      <td> 0</td>\n",
       "      <td> 1</td>\n",
       "      <td> 0</td>\n",
       "      <td> 0</td>\n",
       "      <td>...</td>\n",
       "      <td> 0</td>\n",
       "      <td> 0</td>\n",
       "      <td> 0</td>\n",
       "      <td> 0</td>\n",
       "      <td> 0</td>\n",
       "      <td> 0</td>\n",
       "      <td> 0</td>\n",
       "      <td> 0</td>\n",
       "      <td> 0</td>\n",
       "      <td> 0</td>\n",
       "    </tr>\n",
       "    <tr>\n",
       "      <th>3</th>\n",
       "      <td> 1</td>\n",
       "      <td> 0</td>\n",
       "      <td> 0</td>\n",
       "      <td> 1</td>\n",
       "      <td> 3</td>\n",
       "      <td> 1</td>\n",
       "      <td> 4</td>\n",
       "      <td> 0</td>\n",
       "      <td> 0</td>\n",
       "      <td> 1</td>\n",
       "      <td>...</td>\n",
       "      <td> 3</td>\n",
       "      <td> 0</td>\n",
       "      <td> 1</td>\n",
       "      <td> 2</td>\n",
       "      <td> 0</td>\n",
       "      <td> 0</td>\n",
       "      <td> 0</td>\n",
       "      <td> 0</td>\n",
       "      <td> 0</td>\n",
       "      <td> 0</td>\n",
       "    </tr>\n",
       "    <tr>\n",
       "      <th>4</th>\n",
       "      <td> 0</td>\n",
       "      <td> 0</td>\n",
       "      <td> 0</td>\n",
       "      <td> 0</td>\n",
       "      <td> 0</td>\n",
       "      <td> 0</td>\n",
       "      <td> 0</td>\n",
       "      <td> 0</td>\n",
       "      <td> 0</td>\n",
       "      <td> 0</td>\n",
       "      <td>...</td>\n",
       "      <td> 0</td>\n",
       "      <td> 1</td>\n",
       "      <td> 0</td>\n",
       "      <td> 0</td>\n",
       "      <td> 0</td>\n",
       "      <td> 0</td>\n",
       "      <td> 1</td>\n",
       "      <td> 0</td>\n",
       "      <td> 0</td>\n",
       "      <td> 0</td>\n",
       "    </tr>\n",
       "  </tbody>\n",
       "</table>\n",
       "<p>5 rows × 93 columns</p>\n",
       "</div>"
      ],
      "text/plain": [
       "   feat_1  feat_2  feat_3  feat_4  feat_5  feat_6  feat_7  feat_8  feat_9  \\\n",
       "0       1       0       0       0       0       0       0       0       0   \n",
       "1       0       0       0       0       0       0       0       1       0   \n",
       "2       0       0       0       0       0       0       0       1       0   \n",
       "3       1       0       0       1       3       1       4       0       0   \n",
       "4       0       0       0       0       0       0       0       0       0   \n",
       "\n",
       "   feat_10   ...     feat_84  feat_85  feat_86  feat_87  feat_88  feat_89  \\\n",
       "0        0   ...           0        1        0        0        0        0   \n",
       "1        0   ...           0        0        0        0        0        0   \n",
       "2        0   ...           0        0        0        0        0        0   \n",
       "3        1   ...           3        0        1        2        0        0   \n",
       "4        0   ...           0        1        0        0        0        0   \n",
       "\n",
       "   feat_90  feat_91  feat_92  feat_93  \n",
       "0        0        0        0        0  \n",
       "1        0        0        0        0  \n",
       "2        0        0        0        0  \n",
       "3        0        0        0        0  \n",
       "4        1        0        0        0  \n",
       "\n",
       "[5 rows x 93 columns]"
      ]
     },
     "execution_count": 48,
     "metadata": {},
     "output_type": "execute_result"
    }
   ],
   "source": [
    "X_train1[:5]"
   ]
  },
  {
   "cell_type": "code",
   "execution_count": 47,
   "metadata": {
    "collapsed": false
   },
   "outputs": [
    {
     "data": {
      "text/plain": [
       "0    Class_1\n",
       "1    Class_1\n",
       "2    Class_1\n",
       "3    Class_1\n",
       "4    Class_1\n",
       "Name: target, dtype: object"
      ]
     },
     "execution_count": 47,
     "metadata": {},
     "output_type": "execute_result"
    }
   ],
   "source": [
    "y_train1[:5]"
   ]
  },
  {
   "cell_type": "code",
   "execution_count": 5,
   "metadata": {
    "collapsed": true
   },
   "outputs": [],
   "source": [
    "X_train = train.drop([\"target\", \"id\"], axis = 1)\n",
    "y_train = train.target"
   ]
  },
  {
   "cell_type": "markdown",
   "metadata": {},
   "source": [
    "# Tuning calibrated RF"
   ]
  },
  {
   "cell_type": "code",
   "execution_count": 39,
   "metadata": {
    "collapsed": false
   },
   "outputs": [],
   "source": [
    "def run_calibrated_rf( X_train, y_train, folds = 5, ntree = 300, max_depth = 40, min_leaf = 4, max_features = 0.2, njobs = 16, calibrated_folds = 5 ):\n",
    "    \n",
    "    kf = StratifiedKFold(y_train, n_folds=folds, shuffle=False)\n",
    "    X = X_train\n",
    "    y = y_train\n",
    "    \n",
    "    train_cv_error = np.empty( folds ) \n",
    "    test_cv_error  = np.empty( folds )\n",
    "\n",
    "    rf_model = RandomForestClassifier(n_estimators = ntree, \n",
    "                                      max_depth    = max_depth, \n",
    "                                      min_samples_leaf = min_leaf,\n",
    "                                      max_features = max_features,\n",
    "                                      n_jobs       = njobs)   # running 4 jobs on 4 cores\n",
    "\n",
    "    for index, (train_index, test_index) in enumerate(kf):\n",
    "        X_train, X_test = X[train_index], X[test_index]\n",
    "        y_train, y_test = y[train_index], y[test_index]\n",
    "        \n",
    "        rf_fit = rf_model.fit(X_train, y_train)\n",
    "        # use calibrated classifier on training part\n",
    "        cal_rf_fit = CalibratedClassifierCV(rf_fit, method=\"isotonic\", cv = calibrated_folds)\n",
    "        cal_rf_fit.fit(X_train, y_train)  \n",
    "        \n",
    "        train_cv_error[index] = log_loss( y_train, cal_rf_fit.predict_proba(X_train) ) \n",
    "        test_cv_error[index]  = log_loss( y_test, cal_rf_fit.predict_proba(X_test) ) \n",
    "\n",
    "    train_error = np.mean(train_cv_error)\n",
    "    test_error  = np.mean(test_cv_error)\n",
    "    return train_error, test_error"
   ]
  },
  {
   "cell_type": "code",
   "execution_count": 36,
   "metadata": {
    "collapsed": false
   },
   "outputs": [
    {
     "name": "stdout",
     "output_type": "stream",
     "text": [
      "run 1\n",
      "Test error: 0.730648194454 | param: (10, 0.30000000000000004)\n",
      "Train error: 0.65476389828382797 \n",
      "elapsed: 40s \n",
      "\n",
      "run 2\n",
      "Test error: 0.578089280098 | param: (20, 0.20000000000000001)\n",
      "Train error: 0.35544117697215843 \n",
      "elapsed: 42s \n",
      "\n",
      "run 3\n",
      "Test error: 0.690190668565 | param: (12, 0.30000000000000004)\n",
      "Train error: 0.57755219659290469 \n",
      "elapsed: 44s \n",
      "\n",
      "run 4\n",
      "Test error: 0.573509847469 | param: (36, 0.70000000000000007)\n",
      "Train error: 0.23713032314355292 \n",
      "elapsed: 117s \n",
      "\n",
      "run 5\n",
      "Test error: 0.896762270424 | param: (10, 1.0)\n",
      "Train error: 0.8382386602706362 \n",
      "elapsed: 95s \n",
      "\n",
      "run 6\n",
      "Test error: 0.620273717762 | param: (16, 0.30000000000000004)\n",
      "Train error: 0.45109663144334028 \n",
      "elapsed: 50s \n",
      "\n",
      "run 7\n",
      "Test error: 0.601767080585 | param: (22, 0.80000000000000004)\n",
      "Train error: 0.338341934176006 \n",
      "elapsed: 123s \n",
      "\n",
      "run 8\n",
      "Test error: 0.611086284429 | param: (26, 1.0)\n",
      "Train error: 0.29920999620043409 \n",
      "elapsed: 160s \n",
      "\n",
      "run 9\n",
      "Test error: 0.568294133603 | param: (30, 0.40000000000000002)\n",
      "Train error: 0.24910512677421642 \n",
      "elapsed: 72s \n",
      "\n",
      "run 10\n",
      "Test error: 0.548096151395 | param: (40, 0.20000000000000001)\n",
      "Train error: 0.23873372608827595 \n",
      "elapsed: 43s \n",
      "\n",
      "run 11\n",
      "Test error: 0.568371032966 | param: (22, 0.20000000000000001)\n",
      "Train error: 0.32123759782275363 \n",
      "elapsed: 42s \n",
      "\n",
      "run 12\n",
      "Test error: 0.612943292508 | param: (18, 0.40000000000000002)\n",
      "Train error: 0.40812182352131404 \n",
      "elapsed: 65s \n",
      "\n",
      "run 13\n",
      "Test error: 0.574846366761 | param: (26, 0.59999999999999998)\n",
      "Train error: 0.27612494178681529 \n",
      "elapsed: 97s \n",
      "\n",
      "run 14\n",
      "Test error: 0.699367272039 | param: (16, 1.0)\n",
      "Train error: 0.53038987026780182 \n",
      "elapsed: 132s \n",
      "\n",
      "run 15\n",
      "Test error: 0.576244346633 | param: (32, 0.70000000000000007)\n",
      "Train error: 0.24636649627243701 \n",
      "elapsed: 115s \n",
      "\n",
      "run 16\n",
      "Test error: 0.594993607841 | param: (40, 1.0)\n",
      "Train error: 0.24795866027317323 \n",
      "elapsed: 165s \n",
      "\n",
      "run 17\n",
      "Test error: 0.563069295086 | param: (38, 0.5)\n",
      "Train error: 0.23326499246870483 \n",
      "elapsed: 85s \n",
      "\n",
      "run 18\n"
     ]
    },
    {
     "ename": "KeyboardInterrupt",
     "evalue": "",
     "output_type": "error",
     "traceback": [
      "\u001b[1;31m---------------------------------------------------------------------------\u001b[0m",
      "\u001b[1;31mKeyboardInterrupt\u001b[0m                         Traceback (most recent call last)",
      "\u001b[1;32m<ipython-input-36-5dc5a409f897>\u001b[0m in \u001b[0;36m<module>\u001b[1;34m()\u001b[0m\n\u001b[0;32m      4\u001b[0m              \u001b[0mspace\u001b[0m\u001b[1;33m,\u001b[0m                 \u001b[1;31m# search space\u001b[0m\u001b[1;33m\u001b[0m\u001b[0m\n\u001b[0;32m      5\u001b[0m              \u001b[0malgo\u001b[0m \u001b[1;33m=\u001b[0m \u001b[0mtpe\u001b[0m\u001b[1;33m.\u001b[0m\u001b[0msuggest\u001b[0m\u001b[1;33m,\u001b[0m    \u001b[1;31m# algo\u001b[0m\u001b[1;33m\u001b[0m\u001b[0m\n\u001b[1;32m----> 6\u001b[1;33m              \u001b[0mmax_evals\u001b[0m \u001b[1;33m=\u001b[0m \u001b[1;36m50\u001b[0m         \u001b[1;31m# max iterations\u001b[0m\u001b[1;33m\u001b[0m\u001b[0m\n\u001b[0m\u001b[0;32m      7\u001b[0m              )\n",
      "\u001b[1;32m/usr/anaconda/lib/python2.7/site-packages/hyperopt/fmin.pyc\u001b[0m in \u001b[0;36mfmin\u001b[1;34m(fn, space, algo, max_evals, trials, rseed)\u001b[0m\n\u001b[0;32m    332\u001b[0m \u001b[1;33m\u001b[0m\u001b[0m\n\u001b[0;32m    333\u001b[0m     \u001b[0mrval\u001b[0m \u001b[1;33m=\u001b[0m \u001b[0mFMinIter\u001b[0m\u001b[1;33m(\u001b[0m\u001b[0malgo\u001b[0m\u001b[1;33m,\u001b[0m \u001b[0mdomain\u001b[0m\u001b[1;33m,\u001b[0m \u001b[0mtrials\u001b[0m\u001b[1;33m,\u001b[0m \u001b[0mmax_evals\u001b[0m\u001b[1;33m=\u001b[0m\u001b[0mmax_evals\u001b[0m\u001b[1;33m)\u001b[0m\u001b[1;33m\u001b[0m\u001b[0m\n\u001b[1;32m--> 334\u001b[1;33m     \u001b[0mrval\u001b[0m\u001b[1;33m.\u001b[0m\u001b[0mexhaust\u001b[0m\u001b[1;33m(\u001b[0m\u001b[1;33m)\u001b[0m\u001b[1;33m\u001b[0m\u001b[0m\n\u001b[0m\u001b[0;32m    335\u001b[0m     \u001b[1;32mreturn\u001b[0m \u001b[0mtrials\u001b[0m\u001b[1;33m.\u001b[0m\u001b[0margmin\u001b[0m\u001b[1;33m\u001b[0m\u001b[0m\n\u001b[0;32m    336\u001b[0m \u001b[1;33m\u001b[0m\u001b[0m\n",
      "\u001b[1;32m/usr/anaconda/lib/python2.7/site-packages/hyperopt/fmin.pyc\u001b[0m in \u001b[0;36mexhaust\u001b[1;34m(self)\u001b[0m\n\u001b[0;32m    292\u001b[0m     \u001b[1;32mdef\u001b[0m \u001b[0mexhaust\u001b[0m\u001b[1;33m(\u001b[0m\u001b[0mself\u001b[0m\u001b[1;33m)\u001b[0m\u001b[1;33m:\u001b[0m\u001b[1;33m\u001b[0m\u001b[0m\n\u001b[0;32m    293\u001b[0m         \u001b[0mn_done\u001b[0m \u001b[1;33m=\u001b[0m \u001b[0mlen\u001b[0m\u001b[1;33m(\u001b[0m\u001b[0mself\u001b[0m\u001b[1;33m.\u001b[0m\u001b[0mtrials\u001b[0m\u001b[1;33m)\u001b[0m\u001b[1;33m\u001b[0m\u001b[0m\n\u001b[1;32m--> 294\u001b[1;33m         \u001b[0mself\u001b[0m\u001b[1;33m.\u001b[0m\u001b[0mrun\u001b[0m\u001b[1;33m(\u001b[0m\u001b[0mself\u001b[0m\u001b[1;33m.\u001b[0m\u001b[0mmax_evals\u001b[0m \u001b[1;33m-\u001b[0m \u001b[0mn_done\u001b[0m\u001b[1;33m,\u001b[0m \u001b[0mblock_until_done\u001b[0m\u001b[1;33m=\u001b[0m\u001b[0mself\u001b[0m\u001b[1;33m.\u001b[0m\u001b[0masync\u001b[0m\u001b[1;33m)\u001b[0m\u001b[1;33m\u001b[0m\u001b[0m\n\u001b[0m\u001b[0;32m    295\u001b[0m         \u001b[0mself\u001b[0m\u001b[1;33m.\u001b[0m\u001b[0mtrials\u001b[0m\u001b[1;33m.\u001b[0m\u001b[0mrefresh\u001b[0m\u001b[1;33m(\u001b[0m\u001b[1;33m)\u001b[0m\u001b[1;33m\u001b[0m\u001b[0m\n\u001b[0;32m    296\u001b[0m         \u001b[1;32mreturn\u001b[0m \u001b[0mself\u001b[0m\u001b[1;33m\u001b[0m\u001b[0m\n",
      "\u001b[1;32m/usr/anaconda/lib/python2.7/site-packages/hyperopt/fmin.pyc\u001b[0m in \u001b[0;36mrun\u001b[1;34m(self, N, block_until_done)\u001b[0m\n\u001b[0;32m    266\u001b[0m             \u001b[1;32melse\u001b[0m\u001b[1;33m:\u001b[0m\u001b[1;33m\u001b[0m\u001b[0m\n\u001b[0;32m    267\u001b[0m                 \u001b[1;31m# -- loop over trials and do the jobs directly\u001b[0m\u001b[1;33m\u001b[0m\u001b[1;33m\u001b[0m\u001b[0m\n\u001b[1;32m--> 268\u001b[1;33m                 \u001b[0mself\u001b[0m\u001b[1;33m.\u001b[0m\u001b[0mserial_evaluate\u001b[0m\u001b[1;33m(\u001b[0m\u001b[1;33m)\u001b[0m\u001b[1;33m\u001b[0m\u001b[0m\n\u001b[0m\u001b[0;32m    269\u001b[0m \u001b[1;33m\u001b[0m\u001b[0m\n\u001b[0;32m    270\u001b[0m             \u001b[1;32mif\u001b[0m \u001b[0mstopped\u001b[0m\u001b[1;33m:\u001b[0m\u001b[1;33m\u001b[0m\u001b[0m\n",
      "\u001b[1;32m/usr/anaconda/lib/python2.7/site-packages/hyperopt/fmin.pyc\u001b[0m in \u001b[0;36mserial_evaluate\u001b[1;34m(self, N)\u001b[0m\n\u001b[0;32m    185\u001b[0m                 \u001b[0mctrl\u001b[0m \u001b[1;33m=\u001b[0m \u001b[0mbase\u001b[0m\u001b[1;33m.\u001b[0m\u001b[0mCtrl\u001b[0m\u001b[1;33m(\u001b[0m\u001b[0mself\u001b[0m\u001b[1;33m.\u001b[0m\u001b[0mtrials\u001b[0m\u001b[1;33m,\u001b[0m \u001b[0mcurrent_trial\u001b[0m\u001b[1;33m=\u001b[0m\u001b[0mtrial\u001b[0m\u001b[1;33m)\u001b[0m\u001b[1;33m\u001b[0m\u001b[0m\n\u001b[0;32m    186\u001b[0m                 \u001b[1;32mtry\u001b[0m\u001b[1;33m:\u001b[0m\u001b[1;33m\u001b[0m\u001b[0m\n\u001b[1;32m--> 187\u001b[1;33m                     \u001b[0mresult\u001b[0m \u001b[1;33m=\u001b[0m \u001b[0mself\u001b[0m\u001b[1;33m.\u001b[0m\u001b[0mdomain\u001b[0m\u001b[1;33m.\u001b[0m\u001b[0mevaluate\u001b[0m\u001b[1;33m(\u001b[0m\u001b[0mspec\u001b[0m\u001b[1;33m,\u001b[0m \u001b[0mctrl\u001b[0m\u001b[1;33m)\u001b[0m\u001b[1;33m\u001b[0m\u001b[0m\n\u001b[0m\u001b[0;32m    188\u001b[0m                 \u001b[1;32mexcept\u001b[0m \u001b[0mException\u001b[0m\u001b[1;33m,\u001b[0m \u001b[0me\u001b[0m\u001b[1;33m:\u001b[0m\u001b[1;33m\u001b[0m\u001b[0m\n\u001b[0;32m    189\u001b[0m                     \u001b[0mlogger\u001b[0m\u001b[1;33m.\u001b[0m\u001b[0minfo\u001b[0m\u001b[1;33m(\u001b[0m\u001b[1;34m'job exception: %s'\u001b[0m \u001b[1;33m%\u001b[0m \u001b[0mstr\u001b[0m\u001b[1;33m(\u001b[0m\u001b[0me\u001b[0m\u001b[1;33m)\u001b[0m\u001b[1;33m)\u001b[0m\u001b[1;33m\u001b[0m\u001b[0m\n",
      "\u001b[1;32m/usr/anaconda/lib/python2.7/site-packages/hyperopt/fmin.pyc\u001b[0m in \u001b[0;36mevaluate\u001b[1;34m(self, config, ctrl, attach_attachments)\u001b[0m\n\u001b[0;32m    112\u001b[0m             pyll_rval = pyll.rec_eval(self.expr, memo=memo,\n\u001b[0;32m    113\u001b[0m                     print_node_on_error=self.rec_eval_print_node_on_error)\n\u001b[1;32m--> 114\u001b[1;33m             \u001b[0mrval\u001b[0m \u001b[1;33m=\u001b[0m \u001b[0mself\u001b[0m\u001b[1;33m.\u001b[0m\u001b[0mfn\u001b[0m\u001b[1;33m(\u001b[0m\u001b[0mpyll_rval\u001b[0m\u001b[1;33m)\u001b[0m\u001b[1;33m\u001b[0m\u001b[0m\n\u001b[0m\u001b[0;32m    115\u001b[0m \u001b[1;33m\u001b[0m\u001b[0m\n\u001b[0;32m    116\u001b[0m         \u001b[1;32mif\u001b[0m \u001b[0misinstance\u001b[0m\u001b[1;33m(\u001b[0m\u001b[0mrval\u001b[0m\u001b[1;33m,\u001b[0m \u001b[1;33m(\u001b[0m\u001b[0mfloat\u001b[0m\u001b[1;33m,\u001b[0m \u001b[0mint\u001b[0m\u001b[1;33m,\u001b[0m \u001b[0mnp\u001b[0m\u001b[1;33m.\u001b[0m\u001b[0mnumber\u001b[0m\u001b[1;33m)\u001b[0m\u001b[1;33m)\u001b[0m\u001b[1;33m:\u001b[0m\u001b[1;33m\u001b[0m\u001b[0m\n",
      "\u001b[1;32m<ipython-input-32-90962a28d6d6>\u001b[0m in \u001b[0;36mrun_wrapper\u001b[1;34m(params)\u001b[0m\n\u001b[0;32m      6\u001b[0m \u001b[1;33m\u001b[0m\u001b[0m\n\u001b[0;32m      7\u001b[0m     \u001b[0ms\u001b[0m \u001b[1;33m=\u001b[0m \u001b[0mtime\u001b[0m\u001b[1;33m(\u001b[0m\u001b[1;33m)\u001b[0m\u001b[1;33m\u001b[0m\u001b[0m\n\u001b[1;32m----> 8\u001b[1;33m     \u001b[0mtrain_error\u001b[0m\u001b[1;33m,\u001b[0m \u001b[0mtest_error\u001b[0m \u001b[1;33m=\u001b[0m \u001b[0mrun_test\u001b[0m\u001b[1;33m(\u001b[0m \u001b[0mparams\u001b[0m \u001b[1;33m)\u001b[0m\u001b[1;33m\u001b[0m\u001b[0m\n\u001b[0m\u001b[0;32m      9\u001b[0m \u001b[1;33m\u001b[0m\u001b[0m\n\u001b[0;32m     10\u001b[0m     \u001b[1;32mprint\u001b[0m \u001b[1;34m\"Test error:\"\u001b[0m\u001b[1;33m,\u001b[0m \u001b[0mstr\u001b[0m\u001b[1;33m(\u001b[0m\u001b[0mtest_error\u001b[0m\u001b[1;33m)\u001b[0m \u001b[1;33m+\u001b[0m \u001b[1;34m' | param: '\u001b[0m \u001b[1;33m+\u001b[0m \u001b[0mstr\u001b[0m\u001b[1;33m(\u001b[0m \u001b[0mparams\u001b[0m \u001b[1;33m)\u001b[0m\u001b[1;33m\u001b[0m\u001b[0m\n",
      "\u001b[1;32m<ipython-input-35-415cf651145b>\u001b[0m in \u001b[0;36mrun_test\u001b[1;34m(params)\u001b[0m\n\u001b[0;32m     28\u001b[0m                 \u001b[1;32mbreak\u001b[0m\u001b[1;33m\u001b[0m\u001b[0m\n\u001b[0;32m     29\u001b[0m \u001b[1;33m\u001b[0m\u001b[0m\n\u001b[1;32m---> 30\u001b[1;33m         \u001b[0mrf_fit\u001b[0m \u001b[1;33m=\u001b[0m \u001b[0mrf_model\u001b[0m\u001b[1;33m.\u001b[0m\u001b[0mfit\u001b[0m\u001b[1;33m(\u001b[0m\u001b[0mX_train_cv\u001b[0m\u001b[1;33m,\u001b[0m \u001b[0my_train_cv\u001b[0m\u001b[1;33m)\u001b[0m\u001b[1;33m\u001b[0m\u001b[0m\n\u001b[0m\u001b[0;32m     31\u001b[0m         \u001b[0mcal_rf_fit\u001b[0m \u001b[1;33m=\u001b[0m \u001b[0mCalibratedClassifierCV\u001b[0m\u001b[1;33m(\u001b[0m\u001b[0mrf_fit\u001b[0m\u001b[1;33m,\u001b[0m \u001b[0mmethod\u001b[0m\u001b[1;33m=\u001b[0m\u001b[1;34m\"isotonic\"\u001b[0m\u001b[1;33m,\u001b[0m \u001b[0mcv\u001b[0m\u001b[1;33m=\u001b[0m\u001b[1;34m\"prefit\"\u001b[0m\u001b[1;33m)\u001b[0m\u001b[1;33m\u001b[0m\u001b[0m\n\u001b[0;32m     32\u001b[0m         \u001b[0mcal_rf_fit\u001b[0m\u001b[1;33m.\u001b[0m\u001b[0mfit\u001b[0m\u001b[1;33m(\u001b[0m\u001b[0mX_valid\u001b[0m\u001b[1;33m,\u001b[0m \u001b[0my_valid\u001b[0m\u001b[1;33m)\u001b[0m\u001b[1;33m\u001b[0m\u001b[0m\n",
      "\u001b[1;32m/usr/anaconda/lib/python2.7/site-packages/sklearn/ensemble/forest.pyc\u001b[0m in \u001b[0;36mfit\u001b[1;34m(self, X, y, sample_weight)\u001b[0m\n\u001b[0;32m    271\u001b[0m                     \u001b[0mt\u001b[0m\u001b[1;33m,\u001b[0m \u001b[0mself\u001b[0m\u001b[1;33m,\u001b[0m \u001b[0mX\u001b[0m\u001b[1;33m,\u001b[0m \u001b[0my\u001b[0m\u001b[1;33m,\u001b[0m \u001b[0msample_weight\u001b[0m\u001b[1;33m,\u001b[0m \u001b[0mi\u001b[0m\u001b[1;33m,\u001b[0m \u001b[0mlen\u001b[0m\u001b[1;33m(\u001b[0m\u001b[0mtrees\u001b[0m\u001b[1;33m)\u001b[0m\u001b[1;33m,\u001b[0m\u001b[1;33m\u001b[0m\u001b[0m\n\u001b[0;32m    272\u001b[0m                     verbose=self.verbose, class_weight=self.class_weight)\n\u001b[1;32m--> 273\u001b[1;33m                 for i, t in enumerate(trees))\n\u001b[0m\u001b[0;32m    274\u001b[0m \u001b[1;33m\u001b[0m\u001b[0m\n\u001b[0;32m    275\u001b[0m             \u001b[1;31m# Collect newly grown trees\u001b[0m\u001b[1;33m\u001b[0m\u001b[1;33m\u001b[0m\u001b[0m\n",
      "\u001b[1;32m/usr/anaconda/lib/python2.7/site-packages/sklearn/externals/joblib/parallel.pyc\u001b[0m in \u001b[0;36m__call__\u001b[1;34m(self, iterable)\u001b[0m\n\u001b[0;32m    664\u001b[0m                 \u001b[1;31m# consumption.\u001b[0m\u001b[1;33m\u001b[0m\u001b[1;33m\u001b[0m\u001b[0m\n\u001b[0;32m    665\u001b[0m                 \u001b[0mself\u001b[0m\u001b[1;33m.\u001b[0m\u001b[0m_iterating\u001b[0m \u001b[1;33m=\u001b[0m \u001b[0mFalse\u001b[0m\u001b[1;33m\u001b[0m\u001b[0m\n\u001b[1;32m--> 666\u001b[1;33m             \u001b[0mself\u001b[0m\u001b[1;33m.\u001b[0m\u001b[0mretrieve\u001b[0m\u001b[1;33m(\u001b[0m\u001b[1;33m)\u001b[0m\u001b[1;33m\u001b[0m\u001b[0m\n\u001b[0m\u001b[0;32m    667\u001b[0m             \u001b[1;31m# Make sure that we get a last message telling us we are done\u001b[0m\u001b[1;33m\u001b[0m\u001b[1;33m\u001b[0m\u001b[0m\n\u001b[0;32m    668\u001b[0m             \u001b[0melapsed_time\u001b[0m \u001b[1;33m=\u001b[0m \u001b[0mtime\u001b[0m\u001b[1;33m.\u001b[0m\u001b[0mtime\u001b[0m\u001b[1;33m(\u001b[0m\u001b[1;33m)\u001b[0m \u001b[1;33m-\u001b[0m \u001b[0mself\u001b[0m\u001b[1;33m.\u001b[0m\u001b[0m_start_time\u001b[0m\u001b[1;33m\u001b[0m\u001b[0m\n",
      "\u001b[1;32m/usr/anaconda/lib/python2.7/site-packages/sklearn/externals/joblib/parallel.pyc\u001b[0m in \u001b[0;36mretrieve\u001b[1;34m(self)\u001b[0m\n\u001b[0;32m    516\u001b[0m                 \u001b[0mself\u001b[0m\u001b[1;33m.\u001b[0m\u001b[0m_lock\u001b[0m\u001b[1;33m.\u001b[0m\u001b[0mrelease\u001b[0m\u001b[1;33m(\u001b[0m\u001b[1;33m)\u001b[0m\u001b[1;33m\u001b[0m\u001b[0m\n\u001b[0;32m    517\u001b[0m             \u001b[1;32mtry\u001b[0m\u001b[1;33m:\u001b[0m\u001b[1;33m\u001b[0m\u001b[0m\n\u001b[1;32m--> 518\u001b[1;33m                 \u001b[0mself\u001b[0m\u001b[1;33m.\u001b[0m\u001b[0m_output\u001b[0m\u001b[1;33m.\u001b[0m\u001b[0mappend\u001b[0m\u001b[1;33m(\u001b[0m\u001b[0mjob\u001b[0m\u001b[1;33m.\u001b[0m\u001b[0mget\u001b[0m\u001b[1;33m(\u001b[0m\u001b[1;33m)\u001b[0m\u001b[1;33m)\u001b[0m\u001b[1;33m\u001b[0m\u001b[0m\n\u001b[0m\u001b[0;32m    519\u001b[0m             \u001b[1;32mexcept\u001b[0m \u001b[0mtuple\u001b[0m\u001b[1;33m(\u001b[0m\u001b[0mself\u001b[0m\u001b[1;33m.\u001b[0m\u001b[0mexceptions\u001b[0m\u001b[1;33m)\u001b[0m \u001b[1;32mas\u001b[0m \u001b[0mexception\u001b[0m\u001b[1;33m:\u001b[0m\u001b[1;33m\u001b[0m\u001b[0m\n\u001b[0;32m    520\u001b[0m                 \u001b[1;32mtry\u001b[0m\u001b[1;33m:\u001b[0m\u001b[1;33m\u001b[0m\u001b[0m\n",
      "\u001b[1;32m/usr/anaconda/lib/python2.7/multiprocessing/pool.pyc\u001b[0m in \u001b[0;36mget\u001b[1;34m(self, timeout)\u001b[0m\n\u001b[0;32m    550\u001b[0m \u001b[1;33m\u001b[0m\u001b[0m\n\u001b[0;32m    551\u001b[0m     \u001b[1;32mdef\u001b[0m \u001b[0mget\u001b[0m\u001b[1;33m(\u001b[0m\u001b[0mself\u001b[0m\u001b[1;33m,\u001b[0m \u001b[0mtimeout\u001b[0m\u001b[1;33m=\u001b[0m\u001b[0mNone\u001b[0m\u001b[1;33m)\u001b[0m\u001b[1;33m:\u001b[0m\u001b[1;33m\u001b[0m\u001b[0m\n\u001b[1;32m--> 552\u001b[1;33m         \u001b[0mself\u001b[0m\u001b[1;33m.\u001b[0m\u001b[0mwait\u001b[0m\u001b[1;33m(\u001b[0m\u001b[0mtimeout\u001b[0m\u001b[1;33m)\u001b[0m\u001b[1;33m\u001b[0m\u001b[0m\n\u001b[0m\u001b[0;32m    553\u001b[0m         \u001b[1;32mif\u001b[0m \u001b[1;32mnot\u001b[0m \u001b[0mself\u001b[0m\u001b[1;33m.\u001b[0m\u001b[0m_ready\u001b[0m\u001b[1;33m:\u001b[0m\u001b[1;33m\u001b[0m\u001b[0m\n\u001b[0;32m    554\u001b[0m             \u001b[1;32mraise\u001b[0m \u001b[0mTimeoutError\u001b[0m\u001b[1;33m\u001b[0m\u001b[0m\n",
      "\u001b[1;32m/usr/anaconda/lib/python2.7/multiprocessing/pool.pyc\u001b[0m in \u001b[0;36mwait\u001b[1;34m(self, timeout)\u001b[0m\n\u001b[0;32m    545\u001b[0m         \u001b[1;32mtry\u001b[0m\u001b[1;33m:\u001b[0m\u001b[1;33m\u001b[0m\u001b[0m\n\u001b[0;32m    546\u001b[0m             \u001b[1;32mif\u001b[0m \u001b[1;32mnot\u001b[0m \u001b[0mself\u001b[0m\u001b[1;33m.\u001b[0m\u001b[0m_ready\u001b[0m\u001b[1;33m:\u001b[0m\u001b[1;33m\u001b[0m\u001b[0m\n\u001b[1;32m--> 547\u001b[1;33m                 \u001b[0mself\u001b[0m\u001b[1;33m.\u001b[0m\u001b[0m_cond\u001b[0m\u001b[1;33m.\u001b[0m\u001b[0mwait\u001b[0m\u001b[1;33m(\u001b[0m\u001b[0mtimeout\u001b[0m\u001b[1;33m)\u001b[0m\u001b[1;33m\u001b[0m\u001b[0m\n\u001b[0m\u001b[0;32m    548\u001b[0m         \u001b[1;32mfinally\u001b[0m\u001b[1;33m:\u001b[0m\u001b[1;33m\u001b[0m\u001b[0m\n\u001b[0;32m    549\u001b[0m             \u001b[0mself\u001b[0m\u001b[1;33m.\u001b[0m\u001b[0m_cond\u001b[0m\u001b[1;33m.\u001b[0m\u001b[0mrelease\u001b[0m\u001b[1;33m(\u001b[0m\u001b[1;33m)\u001b[0m\u001b[1;33m\u001b[0m\u001b[0m\n",
      "\u001b[1;32m/usr/anaconda/lib/python2.7/threading.pyc\u001b[0m in \u001b[0;36mwait\u001b[1;34m(self, timeout)\u001b[0m\n\u001b[0;32m    338\u001b[0m         \u001b[1;32mtry\u001b[0m\u001b[1;33m:\u001b[0m    \u001b[1;31m# restore state no matter what (e.g., KeyboardInterrupt)\u001b[0m\u001b[1;33m\u001b[0m\u001b[0m\n\u001b[0;32m    339\u001b[0m             \u001b[1;32mif\u001b[0m \u001b[0mtimeout\u001b[0m \u001b[1;32mis\u001b[0m \u001b[0mNone\u001b[0m\u001b[1;33m:\u001b[0m\u001b[1;33m\u001b[0m\u001b[0m\n\u001b[1;32m--> 340\u001b[1;33m                 \u001b[0mwaiter\u001b[0m\u001b[1;33m.\u001b[0m\u001b[0macquire\u001b[0m\u001b[1;33m(\u001b[0m\u001b[1;33m)\u001b[0m\u001b[1;33m\u001b[0m\u001b[0m\n\u001b[0m\u001b[0;32m    341\u001b[0m                 \u001b[1;32mif\u001b[0m \u001b[0m__debug__\u001b[0m\u001b[1;33m:\u001b[0m\u001b[1;33m\u001b[0m\u001b[0m\n\u001b[0;32m    342\u001b[0m                     \u001b[0mself\u001b[0m\u001b[1;33m.\u001b[0m\u001b[0m_note\u001b[0m\u001b[1;33m(\u001b[0m\u001b[1;34m\"%s.wait(): got it\"\u001b[0m\u001b[1;33m,\u001b[0m \u001b[0mself\u001b[0m\u001b[1;33m)\u001b[0m\u001b[1;33m\u001b[0m\u001b[0m\n",
      "\u001b[1;31mKeyboardInterrupt\u001b[0m: "
     ]
    }
   ],
   "source": [
    "run_counter = 0\n",
    "\n",
    "best = fmin( run_wrapper,           # function to minimize\n",
    "             space,                 # search space\n",
    "             algo = tpe.suggest,    # algo\n",
    "             max_evals = 50         # max iterations\n",
    "             )"
   ]
  },
  {
   "cell_type": "code",
   "execution_count": 110,
   "metadata": {
    "collapsed": false
   },
   "outputs": [
    {
     "data": {
      "text/plain": [
       "{'max_depth': 2, 'max_features': 1, 'min_samples_leaf': 2}"
      ]
     },
     "execution_count": 110,
     "metadata": {},
     "output_type": "execute_result"
    }
   ],
   "source": [
    "best"
   ]
  },
  {
   "cell_type": "markdown",
   "metadata": {},
   "source": [
    "    run 6\n",
    "    Test error: 1.06310537073 | param: (7, 7, 0.5)\n",
    "    Train error: 1.0530566950749782 "
   ]
  },
  {
   "cell_type": "code",
   "execution_count": 22,
   "metadata": {
    "collapsed": false
   },
   "outputs": [
    {
     "data": {
      "text/plain": [
       "(0.26883396108621033, 0.50694138369562702)"
      ]
     },
     "execution_count": 22,
     "metadata": {},
     "output_type": "execute_result"
    }
   ],
   "source": [
    "run_test( (40, 0.2, 5, 10) )\n",
    "\n",
    "# 40, 0.2, 3, 10 - with 5cv: (0.57271343015443876, 0.57665166874091223)\n",
    "# 40, 0.2, 5 with 5cv, ntree = 200: (0.27080722352332665, 0.50759596717809896) --> correct\n",
    "# min leaf: 3 - with 500 trees: (0.26883396108621033, 0.50694138369562702) - slightly reduced"
   ]
  },
  {
   "cell_type": "code",
   "execution_count": 22,
   "metadata": {
    "collapsed": false,
    "scrolled": true
   },
   "outputs": [
    {
     "data": {
      "text/plain": [
       "(0.12571246972655087, 0.49120713181092379)"
      ]
     },
     "execution_count": 22,
     "metadata": {},
     "output_type": "execute_result"
    }
   ],
   "source": [
    "run_calibrated_rf(X_train.values, y_train.values, folds = 5, ntree = 300, max_depth = 36, \n",
    "                  min_leaf = 1, max_features = 0.1, \n",
    "                  njobs = 16, calibrated_folds = 5)\n",
    "\n",
    "# folds   ntree   depth   leaf   max_features    cali_folds    train    test \n",
    "# 5       500     40      3      0.2             5             .26883   .50694\n",
    "# 5       200     40      3      0.2             3             .26508   .51454 --> decrease calibrated folds doesn't help\n",
    "# 5       200     40      2      0.2             5             .18133   .49895\n",
    "# 5       200     40      1      0.2             5             .12519   .49604 --> decrease leaf helps\n",
    "# 5       200     40      1      0.1             5             .11938   .49162  !!!  --> decrease max_features help\n",
    "# 5       200     40      1      0.05            5             .12043   .49838\n",
    "# 5       200     40      1      0.09            5             .11886   .49193\n",
    "# 5       300     40      1      0.1             5             .11695   .49029  !!!  --> increase #trees help\n",
    "# 5       300     42      1      0.1             5             .11442   .49102  \n",
    "# 5       300     38      1      0.1             5             .12022   .48963  \n",
    "# 5       300     36      1      0.1             5             .12533   .48947  !!!  --> best depth\n",
    "# 5       300     35      1      0.1             5             .12883   .49089     \n",
    "# 5       300     34      1      0.1             5             .13291   .49180        \n",
    "\n",
    "# 5       500     36      1      0.1             5             .12302   .49036  \n",
    "# 5       200     36      1      0.1             5             .12762   .49192\n",
    "# 5       300     36      1      0.12            5             .12586   .49062\n",
    "# 5       300     36      1      0.15            5             .12676   .49000\n",
    "# 5       300     36      1      0.08            5             .12571   .49120\n",
    "\n",
    "# 5       200     50      4      0.2             5             .27154   .51558\n",
    "# 5       200     30      4      0.2             5             .28921   .51735\n",
    "# 5       200     20      3      0.2             5             .3611    .54512\n",
    "\n",
    "# Transformed features: square \n",
    "# 5       300     36      1      0.1             5             .12477   .48832\n",
    "# 5       300     36      1      0.1             10            .09828   .48373  --> increase caibrated folds DOES help\n",
    "# 5       300     36      1      0.1             20            .08428   .48215\n",
    "# \n",
    "# power 1/3 with cali folds 5\n",
    "# 0.12473079041707658, 0.48725313364724432   -> does HELP\n",
    "# with calibrated folds 20\n",
    "# 0.084328404526146469, 0.48186039341304482 \n",
    "\n",
    "# with calibrated folds 40\n",
    "# 0.075862553180752218, 0.47939687361959499  --> BEST so far !!!\n",
    "\n",
    "\n",
    "# (2 + X)^1/3\n",
    "# 0.12491783778473835, 0.48914378632049693   --> does not HELP\n",
    "#  \n",
    "\n",
    "# (1 + X)^1/6\n",
    "# 0.12489381784545302, 0.48919326388927581   \n",
    "# (2 + X)^1/6\n",
    "# 0.12515855721966329, 0.489716928244537\n",
    "\n",
    "# X^1/5\n",
    "# 0.12474667493923777, 0.48839600903539199\n",
    "\n",
    "# power 2/3\n",
    "# 0.12491783778473835, 0.48914378632049693   --> does NOT HELP\n",
    "\n",
    "# log(1 + X)\n",
    "# 0.12494640304733051, 0.48992329287754688   --> does NOT HELP"
   ]
  },
  {
   "cell_type": "code",
   "execution_count": 44,
   "metadata": {
    "collapsed": false
   },
   "outputs": [
    {
     "data": {
      "text/plain": [
       "(0.084288516495983457, 0.48215508189673367)"
      ]
     },
     "execution_count": 44,
     "metadata": {},
     "output_type": "execute_result"
    }
   ],
   "source": [
    "# transformed set of features\n",
    "run_calibrated_rf(np.sqrt(3.0/8.0 + X_train.values), y_train.values, folds = 5, ntree = 300, max_depth = 36, \n",
    "                  min_leaf = 1, max_features = 0.1, \n",
    "                  njobs = 16, calibrated_folds = 20)\n",
    "\n",
    "# 0.12477422988726257, 0.48832933367859643\n",
    "# calibrated folds 10: 0.098282389293619349, 0.48373722353006199"
   ]
  },
  {
   "cell_type": "code",
   "execution_count": 42,
   "metadata": {
    "collapsed": false
   },
   "outputs": [
    {
     "data": {
      "text/plain": [
       "(0.12491783778473835, 0.48914378632049693)"
      ]
     },
     "execution_count": 42,
     "metadata": {},
     "output_type": "execute_result"
    }
   ],
   "source": [
    "run_calibrated_rf(np.power(X_train.values, 0.6667), y_train.values, folds = 5, ntree = 300, max_depth = 36, \n",
    "                  min_leaf = 1, max_features = 0.1, \n",
    "                  njobs = 16, calibrated_folds = 5)\n",
    "\n",
    "# 0.12491783778473835, 0.48914378632049693"
   ]
  },
  {
   "cell_type": "code",
   "execution_count": 55,
   "metadata": {
    "collapsed": false,
    "scrolled": true
   },
   "outputs": [
    {
     "data": {
      "text/plain": [
       "(0.075862553180752218, 0.47939687361959499)"
      ]
     },
     "execution_count": 55,
     "metadata": {},
     "output_type": "execute_result"
    }
   ],
   "source": [
    "run_calibrated_rf(np.power(X_train.values, 1.0/3), y_train.values, folds = 5, ntree = 300, max_depth = 36, \n",
    "                  min_leaf = 1, max_features = 0.1, \n",
    "                  njobs = 16, calibrated_folds = 40)"
   ]
  },
  {
   "cell_type": "code",
   "execution_count": 36,
   "metadata": {
    "collapsed": false
   },
   "outputs": [
    {
     "data": {
      "text/plain": [
       "(array([  5.73890000e+04,   2.81000000e+03,   1.39100000e+03,\n",
       "          1.65000000e+02,   3.40000000e+01,   5.10000000e+01,\n",
       "          2.10000000e+01,   6.00000000e+00,   9.00000000e+00,\n",
       "          2.00000000e+00]),\n",
       " array([ 0.61237244,  1.33455717,  2.05674191,  2.77892665,  3.50111138,\n",
       "         4.22329612,  4.94548086,  5.6676656 ,  6.38985033,  7.11203507,\n",
       "         7.83421981]),\n",
       " <a list of 10 Patch objects>)"
      ]
     },
     "execution_count": 36,
     "metadata": {},
     "output_type": "execute_result"
    },
    {
     "data": {
      "image/png": "[encoded data removed]",
      "text/plain": [
       "<matplotlib.figure.Figure at 0x7f9aeeef9ad0>"
      ]
     },
     "metadata": {},
     "output_type": "display_data"
    }
   ],
   "source": [
    "# how about running model on a transformed set of features\n",
    "plt.hist( np.sqrt(3.0/8.0 + X_train.feat_1) , bins=10)"
   ]
  },
  {
   "cell_type": "code",
   "execution_count": 41,
   "metadata": {
    "collapsed": false
   },
   "outputs": [
    {
     "data": {
      "text/plain": [
       "(array([  5.73890000e+04,   3.80200000e+03,   5.40000000e+02,\n",
       "          5.10000000e+01,   1.70000000e+01,   5.70000000e+01,\n",
       "          7.00000000e+00,   8.00000000e+00,   5.00000000e+00,\n",
       "          2.00000000e+00]),\n",
       " array([  0.        ,   1.54960101,   3.09920201,   4.64880302,\n",
       "          6.19840403,   7.74800504,   9.29760604,  10.84720705,\n",
       "         12.39680806,  13.94640907,  15.49601007]),\n",
       " <a list of 10 Patch objects>)"
      ]
     },
     "execution_count": 41,
     "metadata": {},
     "output_type": "execute_result"
    },
    {
     "data": {
      "image/png": "[encoded data removed]",
      "text/plain": [
       "<matplotlib.figure.Figure at 0x7f9aeecf7bd0>"
      ]
     },
     "metadata": {},
     "output_type": "display_data"
    }
   ],
   "source": [
    "plt.hist( np.power(X_train.feat_1, 2.0/3.0) , bins=10)"
   ]
  },
  {
   "cell_type": "code",
   "execution_count": 37,
   "metadata": {
    "collapsed": false
   },
   "outputs": [
    {
     "data": {
      "text/plain": [
       "(array([  5.90300000e+04,   1.76400000e+03,   6.35000000e+02,\n",
       "          2.48000000e+02,   1.26000000e+02,   5.00000000e+01,\n",
       "          1.50000000e+01,   3.00000000e+00,   6.00000000e+00,\n",
       "          1.00000000e+00]),\n",
       " array([ 0.61237244,  1.26789875,  1.92342507,  2.57895138,  3.2344777 ,\n",
       "         3.89000401,  4.54553033,  5.20105665,  5.85658296,  6.51210928,\n",
       "         7.16763559]),\n",
       " <a list of 10 Patch objects>)"
      ]
     },
     "execution_count": 37,
     "metadata": {},
     "output_type": "execute_result"
    },
    {
     "data": {
      "image/png": "[encoded data removed]",
      "text/plain": [
       "<matplotlib.figure.Figure at 0x7f9aeee60e90>"
      ]
     },
     "metadata": {},
     "output_type": "display_data"
    }
   ],
   "source": [
    "plt.hist( np.sqrt(3.0/8.0 + X_train.feat_2) , bins=10)"
   ]
  },
  {
   "cell_type": "code",
   "execution_count": 38,
   "metadata": {
    "collapsed": false
   },
   "outputs": [
    {
     "data": {
      "text/plain": [
       "array([[ 1.17260394,  0.61237244,  0.61237244, ...,  0.61237244,\n",
       "         0.61237244,  0.61237244],\n",
       "       [ 0.61237244,  0.61237244,  0.61237244, ...,  0.61237244,\n",
       "         0.61237244,  0.61237244],\n",
       "       [ 0.61237244,  0.61237244,  0.61237244, ...,  0.61237244,\n",
       "         0.61237244,  0.61237244],\n",
       "       ..., \n",
       "       [ 0.61237244,  0.61237244,  0.61237244, ...,  0.61237244,\n",
       "         0.61237244,  0.61237244],\n",
       "       [ 1.17260394,  0.61237244,  0.61237244, ...,  1.83711731,\n",
       "         3.22102468,  0.61237244],\n",
       "       [ 0.61237244,  0.61237244,  0.61237244, ...,  0.61237244,\n",
       "         1.5411035 ,  0.61237244]])"
      ]
     },
     "execution_count": 38,
     "metadata": {},
     "output_type": "execute_result"
    }
   ],
   "source": [
    "np.sqrt(3.0/8.0 + X_train.values)"
   ]
  },
  {
   "cell_type": "code",
   "execution_count": 38,
   "metadata": {
    "collapsed": true
   },
   "outputs": [],
   "source": [
    "rf_model = RandomForestClassifier(n_estimators=500, \n",
    "                                    max_depth=40, \n",
    "                                    min_samples_leaf=4,\n",
    "                                    max_features=0.2,\n",
    "                                    n_jobs = 16)   # running 4 jobs on 4 cores\n",
    "\n",
    "rf_fit = rf_model.fit(X_train, y_train)"
   ]
  },
  {
   "cell_type": "markdown",
   "metadata": {},
   "source": [
    "**RF** <br/>\n",
    "Without calibration: \n",
    "\n",
    "    10, 4, 1.0: (0.91251429652300209, 0.94094987502326144)\n",
    "    40, 4, 1.0: (0.32113909387768685, 0.60717827845190864)\n",
    "    60, 4, 1.0: (0.31771690448338419, 0.6092925576496071)\n",
    "\n",
    "With calibration:\n",
    "\n",
    "    10, 4, 1.0: (0.8356862096817943, 0.83290941743252522)\n",
    "    40, 4, 1.0: (0.25332064875228538, 0.60348477155300828)\n",
    "    40, 4, 0.5: (0.23218622276408657, 0.56390228229675121)  # ntree = 300\n",
    "    20, 4, 0.5: (0.36511831993499538, 0.59753675035788323)  # ntree = 300\n",
    "    30, 4, 0.5: (0.24953190108702428, 0.56458202652808265)  # ntree = 500\n",
    "    40, 4, 0.2: (0.23873372608827595, 0.548096151395)       # ntree = 500\n",
    "    60, 4, 0.2: (0.3088395524161624, 0.56883823507334863)\n",
    "    60, 4, 1.0: (0.30861626646231655, 0.56614864405879306)\n",
    "    \n",
    "With calibration, feature engineering:\n",
    "\n",
    "    40, 4, 1.0: (0.31838763002858245, 0.57374920366401549)\n",
    "    40, 4, 0.2: (0.31871012865244258, 0.57653341441142436)\n",
    "    20, 4, 0.2: (0.3990457711953671, 0.60149029853276681)\n",
    "    20, 4, 1.0: (0.39945648233825964, 0.60125135890332582)\n",
    "    60, 4, 1.0: (0.31742162179208683, 0.57465458249032864)\n",
    "    80, 4, 1.0: (0.31777607892982829, 0.57127352932674513)\n",
    "    80, 4, 0.2: (0.31740112731579068, 0.56912122044373681)\n",
    "   \n",
    "With choice of calibration folds and CV folds\n",
    "\n",
    "    40, 1.0, 3 (cali folds), 10 (CV folds): (0.25198958289714674, 0.59369842025685893) \n",
    "    40, 0.2, 3, 10: (0.23919816211764594, 0.53363464574189834)\n",
    "    40, 0.2, 2, 10: (0.24310196201783557, 0.54914480378545016)\n",
    "    (0.23618684491052028, 0.53709911088693973)\n",
    "\n",
    "\n",
    "**Extra Forests** <br/>\n",
    "    40, 4, 0.2: (0.4457263724445687, 0.61359812138729486)\n",
    "    20, 4, 0.2: (0.61621853972602847, 0.70603863875428208)\n",
    "    20, 4, 1.0: (0.61472915058327471, 0.70238058124675906)"
   ]
  },
  {
   "cell_type": "code",
   "execution_count": 111,
   "metadata": {
    "collapsed": false
   },
   "outputs": [],
   "source": [
    "rf_model = RandomForestClassifier(n_estimators=200, \n",
    "                                    max_depth=7, \n",
    "                                    min_samples_leaf=7,\n",
    "                                    max_features=0.5)\n",
    "rf_fit = rf_model.fit(X_train, y_train)"
   ]
  },
  {
   "cell_type": "code",
   "execution_count": 112,
   "metadata": {
    "collapsed": false
   },
   "outputs": [
    {
     "data": {
      "text/plain": [
       "RandomForestClassifier(bootstrap=True, compute_importances=None,\n",
       "            criterion='gini', max_depth=7, max_features=0.5,\n",
       "            max_leaf_nodes=None, min_density=None, min_samples_leaf=7,\n",
       "            min_samples_split=2, n_estimators=200, n_jobs=1,\n",
       "            oob_score=False, random_state=None, verbose=0)"
      ]
     },
     "execution_count": 112,
     "metadata": {},
     "output_type": "execute_result"
    }
   ],
   "source": [
    "rf_fit"
   ]
  },
  {
   "cell_type": "code",
   "execution_count": 115,
   "metadata": {
    "collapsed": false
   },
   "outputs": [],
   "source": [
    "X_test = test.drop(['id'], axis=1)\n",
    "predicted_test = rf_fit.predict_proba(X_test)"
   ]
  },
  {
   "cell_type": "code",
   "execution_count": 116,
   "metadata": {
    "collapsed": false
   },
   "outputs": [
    {
     "data": {
      "text/plain": [
       "array([[  2.70372669e-02,   2.84089152e-01,   1.50174340e-01,\n",
       "          2.30835459e-01,   9.81831444e-03,   1.07760813e-01,\n",
       "          4.96887087e-02,   7.14070242e-02,   6.91889225e-02],\n",
       "       [  2.86511083e-02,   2.08242012e-01,   1.20962869e-01,\n",
       "          1.06313083e-01,   1.01716053e-02,   2.29207343e-01,\n",
       "          3.76515554e-02,   2.06666135e-01,   5.21342891e-02],\n",
       "       [  7.84380067e-04,   6.18251546e-04,   5.71601726e-04,\n",
       "          8.22772943e-05,   1.64245445e-04,   9.90329200e-01,\n",
       "          1.38779204e-03,   5.10589303e-03,   9.56358857e-04],\n",
       "       [  1.93503294e-02,   4.32448514e-01,   2.68008976e-01,\n",
       "          1.00867602e-01,   5.71273233e-03,   3.37295935e-02,\n",
       "          3.69000466e-02,   5.27885999e-02,   5.01936059e-02],\n",
       "       [  6.59828963e-02,   1.44940851e-01,   9.25814024e-02,\n",
       "          2.25283560e-02,   9.90778314e-03,   8.37239250e-02,\n",
       "          6.36447568e-02,   3.35690661e-01,   1.80999368e-01]])"
      ]
     },
     "execution_count": 116,
     "metadata": {},
     "output_type": "execute_result"
    }
   ],
   "source": [
    "predicted_test[:5]"
   ]
  },
  {
   "cell_type": "code",
   "execution_count": 117,
   "metadata": {
    "collapsed": false
   },
   "outputs": [
    {
     "data": {
      "text/plain": [
       "array(['Class_1', 'Class_2', 'Class_3', 'Class_4', 'Class_5', 'Class_6',\n",
       "       'Class_7', 'Class_8', 'Class_9'], dtype=object)"
      ]
     },
     "execution_count": 117,
     "metadata": {},
     "output_type": "execute_result"
    }
   ],
   "source": [
    "train.target.unique()"
   ]
  },
  {
   "cell_type": "code",
   "execution_count": 118,
   "metadata": {
    "collapsed": false
   },
   "outputs": [],
   "source": [
    "predicted_test = pd.DataFrame(columns=train.target.unique(), data=predicted_test)"
   ]
  },
  {
   "cell_type": "code",
   "execution_count": 119,
   "metadata": {
    "collapsed": false
   },
   "outputs": [
    {
     "data": {
      "text/html": [
       "<div style=\"max-height:1000px;max-width:1500px;overflow:auto;\">\n",
       "<table border=\"1\" class=\"dataframe\">\n",
       "  <thead>\n",
       "    <tr style=\"text-align: right;\">\n",
       "      <th></th>\n",
       "      <th>Class_1</th>\n",
       "      <th>Class_2</th>\n",
       "      <th>Class_3</th>\n",
       "      <th>Class_4</th>\n",
       "      <th>Class_5</th>\n",
       "      <th>Class_6</th>\n",
       "      <th>Class_7</th>\n",
       "      <th>Class_8</th>\n",
       "      <th>Class_9</th>\n",
       "    </tr>\n",
       "  </thead>\n",
       "  <tbody>\n",
       "    <tr>\n",
       "      <th>0</th>\n",
       "      <td> 0.027037</td>\n",
       "      <td> 0.284089</td>\n",
       "      <td> 0.150174</td>\n",
       "      <td> 0.230835</td>\n",
       "      <td> 0.009818</td>\n",
       "      <td> 0.107761</td>\n",
       "      <td> 0.049689</td>\n",
       "      <td> 0.071407</td>\n",
       "      <td> 0.069189</td>\n",
       "    </tr>\n",
       "    <tr>\n",
       "      <th>1</th>\n",
       "      <td> 0.028651</td>\n",
       "      <td> 0.208242</td>\n",
       "      <td> 0.120963</td>\n",
       "      <td> 0.106313</td>\n",
       "      <td> 0.010172</td>\n",
       "      <td> 0.229207</td>\n",
       "      <td> 0.037652</td>\n",
       "      <td> 0.206666</td>\n",
       "      <td> 0.052134</td>\n",
       "    </tr>\n",
       "    <tr>\n",
       "      <th>2</th>\n",
       "      <td> 0.000784</td>\n",
       "      <td> 0.000618</td>\n",
       "      <td> 0.000572</td>\n",
       "      <td> 0.000082</td>\n",
       "      <td> 0.000164</td>\n",
       "      <td> 0.990329</td>\n",
       "      <td> 0.001388</td>\n",
       "      <td> 0.005106</td>\n",
       "      <td> 0.000956</td>\n",
       "    </tr>\n",
       "    <tr>\n",
       "      <th>3</th>\n",
       "      <td> 0.019350</td>\n",
       "      <td> 0.432449</td>\n",
       "      <td> 0.268009</td>\n",
       "      <td> 0.100868</td>\n",
       "      <td> 0.005713</td>\n",
       "      <td> 0.033730</td>\n",
       "      <td> 0.036900</td>\n",
       "      <td> 0.052789</td>\n",
       "      <td> 0.050194</td>\n",
       "    </tr>\n",
       "    <tr>\n",
       "      <th>4</th>\n",
       "      <td> 0.065983</td>\n",
       "      <td> 0.144941</td>\n",
       "      <td> 0.092581</td>\n",
       "      <td> 0.022528</td>\n",
       "      <td> 0.009908</td>\n",
       "      <td> 0.083724</td>\n",
       "      <td> 0.063645</td>\n",
       "      <td> 0.335691</td>\n",
       "      <td> 0.180999</td>\n",
       "    </tr>\n",
       "  </tbody>\n",
       "</table>\n",
       "</div>"
      ],
      "text/plain": [
       "    Class_1   Class_2   Class_3   Class_4   Class_5   Class_6   Class_7  \\\n",
       "0  0.027037  0.284089  0.150174  0.230835  0.009818  0.107761  0.049689   \n",
       "1  0.028651  0.208242  0.120963  0.106313  0.010172  0.229207  0.037652   \n",
       "2  0.000784  0.000618  0.000572  0.000082  0.000164  0.990329  0.001388   \n",
       "3  0.019350  0.432449  0.268009  0.100868  0.005713  0.033730  0.036900   \n",
       "4  0.065983  0.144941  0.092581  0.022528  0.009908  0.083724  0.063645   \n",
       "\n",
       "    Class_8   Class_9  \n",
       "0  0.071407  0.069189  \n",
       "1  0.206666  0.052134  \n",
       "2  0.005106  0.000956  \n",
       "3  0.052789  0.050194  \n",
       "4  0.335691  0.180999  "
      ]
     },
     "execution_count": 119,
     "metadata": {},
     "output_type": "execute_result"
    }
   ],
   "source": [
    "predicted_test[:5]"
   ]
  },
  {
   "cell_type": "code",
   "execution_count": 122,
   "metadata": {
    "collapsed": false
   },
   "outputs": [],
   "source": [
    "submit = test.filter(['id'], axis=1).join(predicted_test)\n",
    "submit.to_csv(\"submissions/04May_RF_02.csv\", index=False)"
   ]
  },
  {
   "cell_type": "markdown",
   "metadata": {},
   "source": [
    "This model scores ￼1.05984 on LB, which is pretty consistent with 5 CV score. "
   ]
  },
  {
   "cell_type": "code",
   "execution_count": 126,
   "metadata": {
    "collapsed": false
   },
   "outputs": [
    {
     "data": {
      "text/plain": [
       "(0.5351777727832947, 0.66301274716062719)"
      ]
     },
     "execution_count": 126,
     "metadata": {},
     "output_type": "execute_result"
    }
   ],
   "source": [
    "run_test( (20, 7, 1.0) )"
   ]
  },
  {
   "cell_type": "code",
   "execution_count": 141,
   "metadata": {
    "collapsed": false
   },
   "outputs": [],
   "source": [
    "leaves = [5, 10, 20, 30, 45, 60, 80, 100, 120, 150, 200, 250, 300, 350, 400, 450, 500, 550, 600]"
   ]
  },
  {
   "cell_type": "code",
   "execution_count": 142,
   "metadata": {
    "collapsed": false
   },
   "outputs": [],
   "source": [
    "space = (\n",
    "    hp.choice( 'max_depth', np.arange(4, 93, step=2)),\n",
    "    hp.choice( 'min_samples_leaf', leaves ),\n",
    "    hp.choice( 'max_features', np.arange(0.1, 1.1, step=0.1) )\n",
    ")"
   ]
  },
  {
   "cell_type": "code",
   "execution_count": 140,
   "metadata": {
    "collapsed": false
   },
   "outputs": [
    {
     "data": {
      "text/plain": [
       "array([ 10,  15,  20,  25,  30,  35,  40,  45,  50,  55,  60,  65,  70,\n",
       "        75,  80,  85,  90,  95, 100, 105, 110, 115, 120, 125, 130, 135,\n",
       "       140, 145, 150, 155, 160, 165, 170, 175, 180, 185, 190, 195, 200,\n",
       "       205, 210, 215, 220, 225, 230, 235, 240, 245, 250, 255, 260, 265,\n",
       "       270, 275, 280, 285, 290, 295, 300, 305, 310, 315, 320, 325, 330,\n",
       "       335, 340, 345, 350, 355, 360, 365, 370, 375, 380, 385, 390, 395,\n",
       "       400, 405, 410, 415, 420, 425, 430, 435, 440, 445, 450, 455, 460,\n",
       "       465, 470, 475, 480, 485, 490, 495, 500, 505, 510, 515, 520, 525,\n",
       "       530, 535, 540, 545, 550, 555, 560, 565, 570, 575, 580, 585, 590, 595])"
      ]
     },
     "execution_count": 140,
     "metadata": {},
     "output_type": "execute_result"
    }
   ],
   "source": []
  },
  {
   "cell_type": "code",
   "execution_count": null,
   "metadata": {
    "collapsed": false
   },
   "outputs": [],
   "source": []
  }
 ],
 "metadata": {
  "kernelspec": {
   "display_name": "Python 2",
   "language": "python",
   "name": "python2"
  },
  "language_info": {
   "codemirror_mode": {
    "name": "ipython",
    "version": 2
   },
   "file_extension": ".py",
   "mimetype": "text/x-python",
   "name": "python",
   "nbconvert_exporter": "python",
   "pygments_lexer": "ipython2",
   "version": "2.7.9"
  }
 },
 "nbformat": 4,
 "nbformat_minor": 0
}
