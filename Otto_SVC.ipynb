{
 "cells": [
  {
   "cell_type": "code",
   "execution_count": 1,
   "metadata": {
    "collapsed": false
   },
   "outputs": [
    {
     "name": "stdout",
     "output_type": "stream",
     "text": [
      "Populating the interactive namespace from numpy and matplotlib\n"
     ]
    }
   ],
   "source": [
    "%pylab inline\n",
    "import pandas as pd\n",
    "import matplotlib.pyplot as plt\n",
    "import numpy as np"
   ]
  },
  {
   "cell_type": "code",
   "execution_count": 2,
   "metadata": {
    "collapsed": true
   },
   "outputs": [],
   "source": [
    "from sklearn.ensemble import RandomForestClassifier\n",
    "from sklearn.ensemble import ExtraTreesClassifier\n",
    "from sklearn.calibration import CalibratedClassifierCV\n",
    "\n",
    "# === Parameter tuning - Using Hyperopt ===\n",
    "from hyperopt import hp, fmin, tpe\n",
    "from time import time\n",
    "\n",
    "from sklearn.cross_validation import KFold\n",
    "from sklearn.cross_validation import StratifiedKFold\n",
    "from sklearn.metrics import log_loss"
   ]
  },
  {
   "cell_type": "code",
   "execution_count": 3,
   "metadata": {
    "collapsed": true
   },
   "outputs": [],
   "source": [
    "from sklearn import svm"
   ]
  },
  {
   "cell_type": "code",
   "execution_count": 4,
   "metadata": {
    "collapsed": true
   },
   "outputs": [],
   "source": [
    "train = pd.read_csv(\"train.csv\")\n",
    "test = pd.read_csv(\"test.csv\")"
   ]
  },
  {
   "cell_type": "code",
   "execution_count": 5,
   "metadata": {
    "collapsed": true
   },
   "outputs": [],
   "source": [
    "X_train = train.drop(['id', 'target'], axis=1)\n",
    "y_train = train.target"
   ]
  },
  {
   "cell_type": "code",
   "execution_count": 6,
   "metadata": {
    "collapsed": false
   },
   "outputs": [],
   "source": [
    "kf = StratifiedKFold(y_train.values, n_folds=5, shuffle=False, random_state=26)"
   ]
  },
  {
   "cell_type": "markdown",
   "metadata": {},
   "source": [
    "**Multiclass Classification** <br/>\n",
    "From the doc of sklearn: http://scikit-learn.org/stable/modules/svm.html\n",
    "\n",
    "    SVC and NuSVC implement the “one-against-one” approach (Knerr et al., 1990) for multi- class classification. If n_class is the number of classes, then n_class * (n_class - 1) / 2 classifiers are constructed and each one trains data from two classes\n",
    "    \n",
    "    On the other hand, LinearSVC implements “one-vs-the-rest” multi-class strategy, thus training n_class models. If there are only two classes, only one model is trained\n",
    "    \n",
    "SVC can use class weight (but not NuSVC)"
   ]
  },
  {
   "cell_type": "markdown",
   "metadata": {},
   "source": [
    "#SVC"
   ]
  },
  {
   "cell_type": "markdown",
   "metadata": {},
   "source": [
    "Tips:\n",
    "\n",
    "    Support Vector Machine algorithms are not scale invariant, so it is highly recommended to scale your data. For example, scale each attribute on the input vector X to [0,1] or [-1,+1], or standardize it to have mean 0 and variance 1. Note that the same scaling must be applied to the test vector to obtain meaningful results. See section Preprocessing data for more details on scaling and normalization.\n",
    "    \n",
    "    Kernel cache size: For SVC, SVR, nuSVC and NuSVR, the size of the kernel cache has a strong impact on run times for larger problems. If you have enough RAM available, it is recommended to set cache_size to a higher value than the default of 200(MB), such as 500(MB) or 1000(MB).\n",
    "    "
   ]
  },
  {
   "cell_type": "code",
   "execution_count": 9,
   "metadata": {
    "collapsed": true
   },
   "outputs": [],
   "source": [
    "def run_svc( X_train, y_train ):\n",
    "    \n",
    "    # expect numpy array\n",
    "    N = y_train.shape[0]\n",
    "    folds = 5\n",
    "    kf = StratifiedKFold(y_train, n_folds=folds, shuffle=False)\n",
    "    \n",
    "    X = X_train\n",
    "    y = y_train\n",
    "    \n",
    "    train_cv_error = np.empty( folds ) \n",
    "    test_cv_error  = np.empty( folds )\n",
    "    \n",
    "    params_svc = {'C': 1.0, 'kernel': 'rbf', 'gamma': 0.0, \n",
    "                  'probability': True,      # whether to enable proba estimate - increase runtime\n",
    "                  'shrinking': True,\n",
    "                  'class_weight': 'auto',   # inversely proportional to class frequencies\n",
    "                  'random_state': 26,\n",
    "                  'cache_size': 500,\n",
    "                  'verbose': True\n",
    "                 }\n",
    "\n",
    "    svc_model = svm.SVC(**params_svc)\n",
    "\n",
    "    for index, (train_index, test_index) in enumerate(kf):\n",
    "        print \"fold \", str(index)\n",
    "        X_train_cv, X_test_cv = X[train_index], X[test_index]\n",
    "        y_train_cv, y_test_cv = y[train_index], y[test_index]\n",
    "    \n",
    "        s = time()\n",
    "        svc_fit = svc_model.fit(X_train_cv, y_train_cv)\n",
    "        train_cv_error[index] = log_loss( y_train_cv, svc_fit.predict_proba(X_train_cv) ) \n",
    "        test_cv_error[index]  = log_loss( y_test_cv,  svc_fit.predict_proba(X_test_cv) ) \n",
    "        print \"train error : \", str(train_cv_error[index])\n",
    "        print \"test error  : \", str(test_cv_error[index]) \n",
    "        print \"elapsed: {}s \\n\".format( int( round( time() - s )))\n",
    "\n",
    "    train_error = np.mean(train_cv_error)\n",
    "    test_error  = np.mean(test_cv_error)\n",
    "    return train_error, test_error"
   ]
  },
  {
   "cell_type": "code",
   "execution_count": null,
   "metadata": {
    "collapsed": false
   },
   "outputs": [
    {
     "name": "stdout",
     "output_type": "stream",
     "text": [
      "fold  0\n",
      "[LibSVM]"
     ]
    }
   ],
   "source": [
    "run_svc( X_train.values, y_train.values )"
   ]
  },
  {
   "cell_type": "code",
   "execution_count": 8,
   "metadata": {
    "collapsed": true
   },
   "outputs": [],
   "source": [
    "svm.SVC?"
   ]
  },
  {
   "cell_type": "code",
   "execution_count": null,
   "metadata": {
    "collapsed": true
   },
   "outputs": [],
   "source": []
  }
 ],
 "metadata": {
  "kernelspec": {
   "display_name": "Python 2",
   "language": "python",
   "name": "python2"
  },
  "language_info": {
   "codemirror_mode": {
    "name": "ipython",
    "version": 2
   },
   "file_extension": ".py",
   "mimetype": "text/x-python",
   "name": "python",
   "nbconvert_exporter": "python",
   "pygments_lexer": "ipython2",
   "version": "2.7.9"
  }
 },
 "nbformat": 4,
 "nbformat_minor": 0
}
